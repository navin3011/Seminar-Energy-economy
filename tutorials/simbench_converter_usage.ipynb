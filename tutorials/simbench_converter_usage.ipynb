{
 "cells": [
  {
   "cell_type": "markdown",
   "metadata": {},
   "source": [
    "# SimBench Converter"
   ]
  },
  {
   "cell_type": "markdown",
   "metadata": {},
   "source": [
    "This tutorial introduces the SimBench csv format and the converter, connecting pandapower with the SimBench csv format:\n",
    "    \n",
    "The SimBench csv format is, similar to the pandapower format, an element based model which stores the parameters of each element in a table. Widespread element models are used.\n",
    "\n",
    "Two function, one in each direction, connects the csv files where the SimBench csv format data is stored with the pandapower net structure: csv2pp() and pp2csv(). These functions uses the internal functions csv_data2pp() and pp2csv_data(). The internal functions do the full conversion but do not perform reading or writing csv files."
   ]
  },
  {
   "cell_type": "code",
   "execution_count": 1,
   "metadata": {},
   "outputs": [
    {
     "data": {
      "text/plain": [
       "['ExternalNet',\n",
       " 'Line',\n",
       " 'Load',\n",
       " 'Shunt',\n",
       " 'Node',\n",
       " 'Measurement',\n",
       " 'PowerPlant',\n",
       " 'RES',\n",
       " 'Storage',\n",
       " 'Substation',\n",
       " 'Switch',\n",
       " 'Transformer',\n",
       " 'Transformer3W',\n",
       " 'Coordinates',\n",
       " 'LoadProfile',\n",
       " 'PowerPlantProfile',\n",
       " 'RESProfile',\n",
       " 'StorageProfile',\n",
       " 'LineType',\n",
       " 'DCLineType',\n",
       " 'TransformerType',\n",
       " 'Transformer3WType',\n",
       " 'NodePFResult',\n",
       " 'StudyCases']"
      ]
     },
     "execution_count": 1,
     "metadata": {},
     "output_type": "execute_result"
    }
   ],
   "source": [
    "import pandapower.networks as nw\n",
    "import simbench as sb\n",
    "import os\n",
    "\n",
    "# let's have a look at the SimBench csv format appearance\n",
    "net = nw.simple_mv_open_ring_net()\n",
    "csv_data = sb.pp2csv_data(net)\n",
    "list(csv_data.keys())"
   ]
  },
  {
   "cell_type": "markdown",
   "metadata": {},
   "source": [
    "The list of csv_data keys show which element table exist in the SimBench csv format. The keys can be devided classes like \"elements\", \"profiles\", \"types\", \"study cases\" and \"results\", as done by csv_tablenames()."
   ]
  },
  {
   "cell_type": "markdown",
   "metadata": {},
   "source": [
    "Now let's do a full conversion from csv files to pandapower net and the same in other way around."
   ]
  },
  {
   "cell_type": "code",
   "execution_count": 2,
   "metadata": {},
   "outputs": [],
   "source": [
    "# determine relevant paths\n",
    "test_network_path = os.path.join(sb.sb_dir, \"test\", \"converter\", \"test_network\")\n",
    "test_output_folder_path = os.path.join(sb.sb_dir, \"test\", \"converter\", \"test_network_output_folder\")\n",
    "\n",
    "# get the pandapower net from test network csv files\n",
    "net = sb.csv2pp(test_network_path)\n",
    "\n",
    "# convert pp net to csv files\n",
    "sb.pp2csv(net, test_output_folder_path, export_pp_std_types=False)"
   ]
  },
  {
   "cell_type": "markdown",
   "metadata": {},
   "source": [
    "If all worked fine, all csv files in test_output_folder_path should equal to the files in the test_network folder."
   ]
  },
  {
   "cell_type": "markdown",
   "metadata": {
    "collapsed": true
   },
   "source": [
    "For further information about the SimBench csv format, please look at the SimBench documentation available at www.simbench.net"
   ]
  }
 ],
 "metadata": {
  "anaconda-cloud": {},
  "kernelspec": {
   "display_name": "Python 3",
   "language": "python",
   "name": "python3"
  },
  "language_info": {
   "codemirror_mode": {
    "name": "ipython",
    "version": 3
   },
   "file_extension": ".py",
   "mimetype": "text/x-python",
   "name": "python",
   "nbconvert_exporter": "python",
   "pygments_lexer": "ipython3",
   "version": "3.6.8"
  }
 },
 "nbformat": 4,
 "nbformat_minor": 1
}
